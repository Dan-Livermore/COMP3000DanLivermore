{
  "cells": [
    {
      "cell_type": "code",
      "execution_count": null,
      "metadata": {
        "id": "PpdpU8OJBcae"
      },
      "outputs": [],
      "source": [
        "!pip install ultralytics"
      ]
    },
    {
      "cell_type": "code",
      "execution_count": null,
      "metadata": {
        "id": "OFT-8Xen-xhV"
      },
      "outputs": [],
      "source": [
        "from google.colab import drive\n",
        "import os\n",
        "from ultralytics import YOLO\n",
        "\n",
        "import pandas as pd\n",
        "import matplotlib.pyplot as plt\n",
        "import numpy as np"
      ]
    },
    {
      "cell_type": "markdown",
      "metadata": {
        "id": "Pzo75hpFEX7C"
      },
      "source": [
        "Train"
      ]
    },
    {
      "cell_type": "code",
      "execution_count": 10,
      "metadata": {
        "colab": {
          "base_uri": "https://localhost:8080/"
        },
        "id": "zNzOabmTlDIX",
        "outputId": "0cd1353d-56d6-40fb-8bbc-afdcd7f66817"
      },
      "outputs": [
        {
          "name": "stdout",
          "output_type": "stream",
          "text": [
            "Mounted at /content/gdrive\n"
          ]
        }
      ],
      "source": [
        "# Connect to dataset\n",
        "drive.mount(\"/content/gdrive\", force_remount=True)"
      ]
    },
    {
      "cell_type": "code",
      "execution_count": null,
      "metadata": {
        "id": "q1xlVdEcndbY"
      },
      "outputs": [],
      "source": [
        "# File path for data split 80/20 train/test\n",
        "dataset = '/content/gdrive/My Drive/YoloV8Dataset'"
      ]
    },
    {
      "cell_type": "code",
      "execution_count": null,
      "metadata": {
        "id": "hw2UkYgxBkYr"
      },
      "outputs": [],
      "source": [
        "from google.colab import drive\n",
        "drive.mount('/content/drive')"
      ]
    },
    {
      "cell_type": "code",
      "execution_count": null,
      "metadata": {
        "id": "mwM-jg4Ko388"
      },
      "outputs": [],
      "source": [
        "# Load model\n",
        "model = YOLO('/content/gdrive/MyDrive/YoloV8Dataset/yolov8m-cls.pt')\n",
        "# Train model\n",
        "results = model.train(data=dataset, epochs=1, imgsz=64) # Check this works and then try 20 and go up"
      ]
    },
    {
      "cell_type": "code",
      "execution_count": null,
      "metadata": {
        "id": "KWmZTPZp-5Av"
      },
      "outputs": [],
      "source": [
        "# Save weights and results\n",
        "!scp =r /content/gdrive/MyDrive/YoloV8Dataset/runs '/content/gdrive/MyDrive/YoloV8Dataset'"
      ]
    },
    {
      "cell_type": "markdown",
      "metadata": {
        "id": "qwwMJ0VAEUfE"
      },
      "source": [
        "Accuracy"
      ]
    },
    {
      "cell_type": "code",
      "execution_count": null,
      "metadata": {
        "id": "G30Kk045Ecsj"
      },
      "outputs": [],
      "source": [
        "# Get the file path of the results\n",
        "results_path = './content/gdrive/MyDrive/YoloV8Dataset/runs/classify/train14/results.csv'\n",
        "\n",
        "# Read the results from the trained model\n",
        "results = pd.read_csv(results_path)"
      ]
    },
    {
      "cell_type": "code",
      "execution_count": null,
      "metadata": {
        "id": "zAOdU7cDE0tZ"
      },
      "outputs": [],
      "source": [
        "plt.figure()\n",
        "plt.plot(results['                  epoch'], results['             train/loss'], label='train loss')\n",
        "plt.plot(results['                  epoch'], results['               val/loss'], label='val loss', c='red')\n",
        "plt.grid()\n",
        "plt.title('Loss vs epochs')\n",
        "plt.ylabel('loss')\n",
        "plt.xlabel('epochs')\n",
        "plt.legend()\n",
        "\n",
        "plt.show()"
      ]
    },
    {
      "cell_type": "code",
      "execution_count": null,
      "metadata": {
        "id": "1_yGPzQOE5aa"
      },
      "outputs": [],
      "source": [
        "plt.figure()\n",
        "plt.plot(results['                  epoch'], results['  metrics/accuracy_top1'] * 100)\n",
        "plt.grid()\n",
        "plt.title('Validation accuracy vs epochs')\n",
        "plt.ylabel('accuracy (%)')\n",
        "plt.xlabel('epochs')\n",
        "\n",
        "plt.show()"
      ]
    },
    {
      "cell_type": "markdown",
      "metadata": {
        "id": "dNdhA5h9EbTK"
      },
      "source": [
        "Predict"
      ]
    },
    {
      "cell_type": "code",
      "execution_count": null,
      "metadata": {
        "id": "vtgmBJiSE87d"
      },
      "outputs": [],
      "source": [
        "# Load the model (If not being trained)\n",
        "model = YOLO('./content/gdrive/MyDrive/YoloV8Dataset/runs/classify/train14/weights/last.pt')\n",
        "\n",
        "# Run the model on an image (From the dataset because on colab)\n",
        "results = model('./content/gdrive/My Drive/YoloV8Dataset/train/Chihuahua/n02085620_13383.jpg')\n",
        "\n",
        "pet_names = results[0].names\n",
        "probs = results[0].probs.data.tolist()\n",
        "\n",
        "# Display prediction\n",
        "\n",
        "#print(pet_names)\n",
        "#print(probs)\n",
        "\n",
        "print(pet_names[np.argmax(probs)])"
      ]
    },
    {
      "cell_type": "code",
      "execution_count": 1,
      "metadata": {},
      "outputs": [
        {
          "ename": "ModuleNotFoundError",
          "evalue": "No module named 'numpy'",
          "output_type": "error",
          "traceback": [
            "\u001b[1;31m---------------------------------------------------------------------------\u001b[0m",
            "\u001b[1;31mModuleNotFoundError\u001b[0m                       Traceback (most recent call last)",
            "Cell \u001b[1;32mIn[1], line 1\u001b[0m\n\u001b[1;32m----> 1\u001b[0m \u001b[38;5;28;01mimport\u001b[39;00m \u001b[38;5;21;01mnumpy\u001b[39;00m \u001b[38;5;28;01mas\u001b[39;00m \u001b[38;5;21;01mnp\u001b[39;00m\n\u001b[0;32m      2\u001b[0m \u001b[38;5;28;01mfrom\u001b[39;00m \u001b[38;5;21;01multralytics\u001b[39;00m \u001b[38;5;28;01mimport\u001b[39;00m YOLO\n\u001b[0;32m      4\u001b[0m \u001b[38;5;66;03m# Load the model (If not being trained)\u001b[39;00m\n",
            "\u001b[1;31mModuleNotFoundError\u001b[0m: No module named 'numpy'"
          ]
        }
      ],
      "source": [
        "import numpy as np\n",
        "from ultralytics import YOLO\n",
        "\n",
        "# Load the model (If not being trained)\n",
        "model = YOLO('./runs/classify/train3/weights/last.pt')\n",
        "\n",
        "# Run the model on an image (From the dataset because on colab)\n",
        "results = model('./dataset/train/Chihuahua/n02085620_13383.jpg')\n",
        "\n",
        "pet_names = results[0].names\n",
        "probs = results[0].probs.data.tolist()\n",
        "\n",
        "# Display prediction\n",
        "predicition = pet_names[np.argmax(probs)]\n",
        "confidence = np.round(probs[np.argmax(probs)] * 100, 2)\n",
        "\n",
        "print(\"Prediction: \", predicition)  \n",
        "print(\"Confidence \", f\"{confidence:.2f}%\")"
      ]
    }
  ],
  "metadata": {
    "colab": {
      "provenance": []
    },
    "kernelspec": {
      "display_name": "Python 3",
      "name": "python3"
    },
    "language_info": {
      "codemirror_mode": {
        "name": "ipython",
        "version": 3
      },
      "file_extension": ".py",
      "mimetype": "text/x-python",
      "name": "python",
      "nbconvert_exporter": "python",
      "pygments_lexer": "ipython3",
      "version": "3.12.0"
    }
  },
  "nbformat": 4,
  "nbformat_minor": 0
}
