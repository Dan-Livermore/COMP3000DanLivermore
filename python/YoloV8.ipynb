{
  "nbformat": 4,
  "nbformat_minor": 0,
  "metadata": {
    "colab": {
      "provenance": []
    },
    "kernelspec": {
      "name": "python3",
      "display_name": "Python 3"
    },
    "language_info": {
      "name": "python"
    }
  },
  "cells": [
    {
      "cell_type": "code",
      "source": [
        "!pip install ultralytics"
      ],
      "metadata": {
        "id": "PpdpU8OJBcae"
      },
      "execution_count": null,
      "outputs": []
    },
    {
      "cell_type": "code",
      "source": [
        "from google.colab import drive\n",
        "import os\n",
        "from ultralytics import YOLO\n",
        "\n",
        "import pandas as pd\n",
        "import matplotlib.pyplot as plt\n",
        "import numpy as np"
      ],
      "metadata": {
        "id": "OFT-8Xen-xhV"
      },
      "execution_count": null,
      "outputs": []
    },
    {
      "cell_type": "markdown",
      "source": [
        "Train"
      ],
      "metadata": {
        "id": "Pzo75hpFEX7C"
      }
    },
    {
      "cell_type": "code",
      "execution_count": 10,
      "metadata": {
        "id": "zNzOabmTlDIX",
        "colab": {
          "base_uri": "https://localhost:8080/"
        },
        "outputId": "0cd1353d-56d6-40fb-8bbc-afdcd7f66817"
      },
      "outputs": [
        {
          "output_type": "stream",
          "name": "stdout",
          "text": [
            "Mounted at /content/gdrive\n"
          ]
        }
      ],
      "source": [
        "# Connect to dataset\n",
        "drive.mount(\"/content/gdrive\", force_remount=True)"
      ]
    },
    {
      "cell_type": "code",
      "source": [
        "# File path for data split 80/20 train/test\n",
        "dataset = '/content/gdrive/My Drive/YoloV8Dataset'"
      ],
      "metadata": {
        "id": "q1xlVdEcndbY"
      },
      "execution_count": null,
      "outputs": []
    },
    {
      "cell_type": "code",
      "source": [
        "from google.colab import drive\n",
        "drive.mount('/content/drive')"
      ],
      "metadata": {
        "id": "hw2UkYgxBkYr"
      },
      "execution_count": null,
      "outputs": []
    },
    {
      "cell_type": "code",
      "source": [
        "# Load model\n",
        "model = YOLO('/content/gdrive/MyDrive/YoloV8Dataset/yolov8m-cls.pt')\n",
        "# Train model\n",
        "results = model.train(data=dataset, epochs=1, imgsz=64) # Check this works and then try 20 and go up"
      ],
      "metadata": {
        "id": "mwM-jg4Ko388"
      },
      "execution_count": null,
      "outputs": []
    },
    {
      "cell_type": "code",
      "source": [
        "# Save weights and results\n",
        "!scp =r /content/gdrive/MyDrive/YoloV8Dataset/runs '/content/gdrive/MyDrive/YoloV8Dataset'"
      ],
      "metadata": {
        "id": "KWmZTPZp-5Av"
      },
      "execution_count": null,
      "outputs": []
    },
    {
      "cell_type": "markdown",
      "source": [
        "Accuracy"
      ],
      "metadata": {
        "id": "qwwMJ0VAEUfE"
      }
    },
    {
      "cell_type": "code",
      "source": [
        "# Get the file path of the results\n",
        "results_path = './content/gdrive/MyDrive/YoloV8Dataset/runs/classify/train14/results.csv'\n",
        "\n",
        "# Read the results from the trained model\n",
        "results = pd.read_csv(results_path)"
      ],
      "metadata": {
        "id": "G30Kk045Ecsj"
      },
      "execution_count": null,
      "outputs": []
    },
    {
      "cell_type": "code",
      "source": [
        "plt.figure()\n",
        "plt.plot(results['                  epoch'], results['             train/loss'], label='train loss')\n",
        "plt.plot(results['                  epoch'], results['               val/loss'], label='val loss', c='red')\n",
        "plt.grid()\n",
        "plt.title('Loss vs epochs')\n",
        "plt.ylabel('loss')\n",
        "plt.xlabel('epochs')\n",
        "plt.legend()\n",
        "\n",
        "plt.show()"
      ],
      "metadata": {
        "id": "zAOdU7cDE0tZ"
      },
      "execution_count": null,
      "outputs": []
    },
    {
      "cell_type": "code",
      "source": [
        "plt.figure()\n",
        "plt.plot(results['                  epoch'], results['  metrics/accuracy_top1'] * 100)\n",
        "plt.grid()\n",
        "plt.title('Validation accuracy vs epochs')\n",
        "plt.ylabel('accuracy (%)')\n",
        "plt.xlabel('epochs')\n",
        "\n",
        "plt.show()"
      ],
      "metadata": {
        "id": "1_yGPzQOE5aa"
      },
      "execution_count": null,
      "outputs": []
    },
    {
      "cell_type": "markdown",
      "source": [
        "Predict"
      ],
      "metadata": {
        "id": "dNdhA5h9EbTK"
      }
    },
    {
      "cell_type": "code",
      "source": [
        "# Load the model (If not being trained)\n",
        "model = YOLO('./content/gdrive/MyDrive/YoloV8Dataset/runs/classify/train14/weights/last.pt')\n",
        "\n",
        "# Run the model on an image (From the dataset because on colab)\n",
        "results = model('./content/gdrive/My Drive/YoloV8Dataset/train/Chihuahua/n02085620_13383.jpg')\n",
        "\n",
        "pet_names = results[0].names\n",
        "probs = results[0].probs.data.tolist()\n",
        "\n",
        "# Display prediction\n",
        "\n",
        "#print(pet_names)\n",
        "#print(probs)\n",
        "\n",
        "print(pet_names[np.argmax(probs)])"
      ],
      "metadata": {
        "id": "vtgmBJiSE87d"
      },
      "execution_count": null,
      "outputs": []
    }
  ]
}